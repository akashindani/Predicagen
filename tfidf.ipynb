{
 "cells": [
  {
   "cell_type": "code",
   "execution_count": 1,
   "metadata": {},
   "outputs": [
    {
     "data": {
      "text/plain": [
       "(19497, 3)"
      ]
     },
     "execution_count": 1,
     "metadata": {},
     "output_type": "execute_result"
    }
   ],
   "source": [
    "#rs_disease_v7\n",
    "import numpy as np\n",
    "import pandas as pd\n",
    "rs_disease_v7 = pd.read_csv('rs_disease_v7.csv')\n",
    "rs_disease_v7.shape\n",
    "#(70014, 12)\n",
    "rs_disease_v7.head()\n",
    "#all_inheritance_df=pd.DataFrame(columns=['A','B','C','D'])\n",
    "all_inheritance_df = pd.read_csv(\"OMIN_new.csv\")\n",
    "all_inheritance_df.shape\n",
    "#(19495, 4) , 1 column is useless last column"
   ]
  },
  {
   "cell_type": "code",
   "execution_count": 6,
   "metadata": {},
   "outputs": [],
   "source": [
    "all_inheritance_df.drop(columns=['A'],inplace=True)"
   ]
  },
  {
   "cell_type": "code",
   "execution_count": 8,
   "metadata": {},
   "outputs": [],
   "source": [
    "X=all_inheritance_df['B']\n",
    "y=all_inheritance_df['C']"
   ]
  },
  {
   "cell_type": "code",
   "execution_count": 18,
   "metadata": {},
   "outputs": [
    {
     "data": {
      "text/plain": [
       "['Spastic paraplegia 48, autosomal recessive',\n",
       " 'Spastic paraplegia 48, autosomal recessive',\n",
       " 'Mitochondrial complex I deficiency',\n",
       " 'Mitochondrial complex I deficiency',\n",
       " 'Hemochromatosis type 1']"
      ]
     },
     "execution_count": 18,
     "metadata": {},
     "output_type": "execute_result"
    }
   ],
   "source": [
    "some_examples=rs_disease_v7['Phenotype'].head().tolist()\n",
    "some_examples"
   ]
  },
  {
   "cell_type": "code",
   "execution_count": 16,
   "metadata": {},
   "outputs": [],
   "source": [
    "def repeat_train_and_test(model, n_repeats):\n",
    "    max_score=0\n",
    "    min_score=1\n",
    "    for i in range(n_repeats):\n",
    "        model.fit(X_train_df, y_train)\n",
    "        y_test_preds=model.predict(X_test_df)\n",
    "        accuracyscore=accuracy_score(y_test, y_test_preds)\n",
    "        print(\"accuracy_score = \"+str(accuracyscore))\n",
    "        print(model.predict(examples_df))\n",
    "        if accuracyscore > max_score:\n",
    "            max_score=accuracyscore\n",
    "        if min_score > accuracyscore:\n",
    "            min_score=accuracyscore\n",
    "    print(\"max_score : {} and min_score : {}\".format(max_score,min_score))"
   ]
  },
  {
   "cell_type": "code",
   "execution_count": 31,
   "metadata": {},
   "outputs": [
    {
     "name": "stderr",
     "output_type": "stream",
     "text": [
      "C:\\Users\\akash\\Anaconda3\\lib\\site-packages\\sklearn\\ensemble\\forest.py:245: FutureWarning: The default value of n_estimators will change from 10 in version 0.20 to 100 in 0.22.\n",
      "  \"10 in version 0.20 to 100 in 0.22.\", FutureWarning)\n"
     ]
    },
    {
     "name": "stdout",
     "output_type": "stream",
     "text": [
      "accuracy_score = 0.8723076923076923\n",
      "[' Autosomal recessive' ' Autosomal recessive' ' Autosomal recessive'\n",
      " ' Autosomal recessive' ' Autosomal dominant']\n",
      "accuracy_score = 0.8738461538461538\n",
      "[' Autosomal recessive' ' Autosomal recessive' ' Autosomal recessive'\n",
      " ' Autosomal recessive' ' Autosomal dominant']\n",
      "accuracy_score = 0.8753846153846154\n",
      "[' Autosomal recessive' ' Autosomal recessive' ' Autosomal recessive'\n",
      " ' Autosomal recessive' ' Autosomal dominant']\n",
      "accuracy_score = 0.8717948717948718\n",
      "[' Autosomal recessive' ' Autosomal recessive' ' Autosomal recessive'\n",
      " ' Autosomal recessive' ' Autosomal dominant']\n",
      "accuracy_score = 0.8702564102564102\n",
      "[' Autosomal recessive' ' Autosomal recessive' ' Autosomal recessive'\n",
      " ' Autosomal recessive' ' Autosomal dominant']\n",
      "accuracy_score = 0.8723076923076923\n",
      "[' Autosomal recessive' ' Autosomal recessive' ' Autosomal recessive'\n",
      " ' Autosomal recessive' ' Autosomal dominant']\n",
      "accuracy_score = 0.8723076923076923\n",
      "[' Autosomal recessive' ' Autosomal recessive' ' Autosomal recessive'\n",
      " ' Autosomal recessive' ' Autosomal dominant']\n",
      "accuracy_score = 0.8692307692307693\n",
      "[' Autosomal recessive' ' Autosomal recessive' ' Autosomal recessive'\n",
      " ' Autosomal recessive' ' Autosomal dominant']\n",
      "accuracy_score = 0.8702564102564102\n",
      "[' Autosomal recessive' ' Autosomal recessive' ' Autosomal recessive'\n",
      " ' Autosomal recessive' ' Autosomal recessive']\n",
      "accuracy_score = 0.8707692307692307\n",
      "[' Autosomal recessive' ' Autosomal recessive' ' Autosomal recessive'\n",
      " ' Autosomal recessive' ' Autosomal dominant']\n",
      "max_score : 0.8753846153846154 and min_score : 0.8692307692307693\n"
     ]
    }
   ],
   "source": [
    "from sklearn.model_selection import train_test_split \n",
    "from sklearn.metrics import accuracy_score\n",
    "from sklearn.ensemble import RandomForestClassifier\n",
    "\n",
    "X_train, X_test, y_train, y_test = train_test_split(X, y, test_size=0.1, random_state=1)\n",
    "\n",
    "from sklearn.feature_extraction.text import TfidfVectorizer\n",
    "vectorizer = TfidfVectorizer()\n",
    "X_train_df = vectorizer.fit_transform(X_train)\n",
    "\n",
    "X_test_df = vectorizer.transform(X_test)\n",
    "examples_df = vectorizer.transform(some_examples)\n",
    "forest_tdif_model = RandomForestClassifier()\n",
    "repeat_train_and_test(forest_tdif_model, 10)"
   ]
  },
  {
   "cell_type": "code",
   "execution_count": 20,
   "metadata": {},
   "outputs": [
    {
     "name": "stderr",
     "output_type": "stream",
     "text": [
      "C:\\Users\\akash\\Anaconda3\\lib\\site-packages\\sklearn\\linear_model\\logistic.py:432: FutureWarning: Default solver will be changed to 'lbfgs' in 0.22. Specify a solver to silence this warning.\n",
      "  FutureWarning)\n",
      "C:\\Users\\akash\\Anaconda3\\lib\\site-packages\\sklearn\\linear_model\\logistic.py:469: FutureWarning: Default multi_class will be changed to 'auto' in 0.22. Specify the multi_class option to silence this warning.\n",
      "  \"this warning.\", FutureWarning)\n"
     ]
    },
    {
     "name": "stdout",
     "output_type": "stream",
     "text": [
      "logistic_model: 0.816923076923077\n",
      "navive_bayes_model: 0.8005128205128205\n"
     ]
    },
    {
     "name": "stderr",
     "output_type": "stream",
     "text": [
      "C:\\Users\\akash\\Anaconda3\\lib\\site-packages\\sklearn\\ensemble\\forest.py:245: FutureWarning: The default value of n_estimators will change from 10 in version 0.20 to 100 in 0.22.\n",
      "  \"10 in version 0.20 to 100 in 0.22.\", FutureWarning)\n"
     ]
    },
    {
     "name": "stdout",
     "output_type": "stream",
     "text": [
      "forest_tdif_model: 0.8661538461538462\n",
      "linear_svm_model: 0.8287179487179487\n"
     ]
    },
    {
     "name": "stderr",
     "output_type": "stream",
     "text": [
      "C:\\Users\\akash\\Anaconda3\\lib\\site-packages\\sklearn\\svm\\base.py:193: FutureWarning: The default value of gamma will change from 'auto' to 'scale' in version 0.22 to account better for unscaled features. Set gamma explicitly to 'auto' or 'scale' to avoid this warning.\n",
      "  \"avoid this warning.\", FutureWarning)\n"
     ]
    },
    {
     "name": "stdout",
     "output_type": "stream",
     "text": [
      "svm_model: 0.49538461538461537\n",
      "knn_model: 0.8312820512820512\n"
     ]
    }
   ],
   "source": [
    "from sklearn.model_selection import train_test_split\n",
    "from sklearn.feature_extraction.text import TfidfVectorizer\n",
    "from sklearn.linear_model import LogisticRegression\n",
    "from sklearn.naive_bayes import MultinomialNB\n",
    "from sklearn.svm import SVC\n",
    "from sklearn.neighbors import KNeighborsClassifier\n",
    "\n",
    "\n",
    "\n",
    "X_train,X_test,y_train,y_test = train_test_split(X,y, test_size = 0.1, random_state = 10)\n",
    "\n",
    "vect = TfidfVectorizer()\n",
    "vect.fit(X_train)\n",
    "X_train_df = vect.transform(X_train)\n",
    "X_test_df = vect.transform(X_test)\n",
    "\n",
    "logistic_model = LogisticRegression()\n",
    "navive_bayes_model = MultinomialNB()\n",
    "forest_tdif_model = RandomForestClassifier()\n",
    "linear_svm_model = SVC(kernel='linear')\n",
    "svm_model = SVC()\n",
    "knn_model = KNeighborsClassifier(n_neighbors=3)\n",
    "\n",
    "\n",
    "\n",
    "models = {\"logistic_model\":logistic_model,\"navive_bayes_model\":navive_bayes_model,\"forest_tdif_model\":forest_tdif_model\n",
    "          , \"linear_svm_model\":linear_svm_model,\n",
    "          \"svm_model\":svm_model,\"knn_model\":knn_model}\n",
    "\n",
    "\n",
    "for model_name, model in models.items():\n",
    "    model.fit(X_train_df,y_train)\n",
    "    target = model.predict(X_test_df)\n",
    "    score = accuracy_score(y_test,target)\n",
    "    print('{}: {}'.format(model_name, score))"
   ]
  },
  {
   "cell_type": "code",
   "execution_count": 38,
   "metadata": {},
   "outputs": [],
   "source": [
    "sample=rs_disease_v7['Phenotype'].tolist()\n",
    "sample_df = vectorizer.transform(sample)"
   ]
  },
  {
   "cell_type": "code",
   "execution_count": 42,
   "metadata": {},
   "outputs": [],
   "source": [
    "new_column=forest_tdif_model.predict(sample_df).tolist()\n",
    "rs_disease_v7['new_column']=new_column"
   ]
  },
  {
   "cell_type": "code",
   "execution_count": 44,
   "metadata": {},
   "outputs": [],
   "source": [
    "rs_disease_v7.to_csv('rs_disease_v7_new.csv')"
   ]
  }
 ],
 "metadata": {
  "kernelspec": {
   "display_name": "Python 3",
   "language": "python",
   "name": "python3"
  },
  "language_info": {
   "codemirror_mode": {
    "name": "ipython",
    "version": 3
   },
   "file_extension": ".py",
   "mimetype": "text/x-python",
   "name": "python",
   "nbconvert_exporter": "python",
   "pygments_lexer": "ipython3",
   "version": "3.7.4"
  }
 },
 "nbformat": 4,
 "nbformat_minor": 2
}
